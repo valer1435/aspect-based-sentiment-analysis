{
  "nbformat": 4,
  "nbformat_minor": 0,
  "metadata": {
    "accelerator": "GPU",
    "colab": {
      "name": "aspect_based_sent_analysis.ipynb",
      "provenance": [],
      "collapsed_sections": []
    },
    "kernelspec": {
      "display_name": "Python 3",
      "name": "python3"
    },
    "language_info": {
      "name": "python"
    },
    "widgets": {
      "application/vnd.jupyter.widget-state+json": {
        "670c65607459432fa40636b4b5d06c74": {
          "model_module": "@jupyter-widgets/controls",
          "model_name": "HBoxModel",
          "state": {
            "_view_name": "HBoxView",
            "_dom_classes": [],
            "_model_name": "HBoxModel",
            "_view_module": "@jupyter-widgets/controls",
            "_model_module_version": "1.5.0",
            "_view_count": null,
            "_view_module_version": "1.5.0",
            "box_style": "",
            "layout": "IPY_MODEL_4187f6e244214bbebabbb67f8eb0a5d9",
            "_model_module": "@jupyter-widgets/controls",
            "children": [
              "IPY_MODEL_37ba1d85ee46420b867d1e40d3384bd6",
              "IPY_MODEL_717fc1379bcf42daa69ab83b01821aa4"
            ]
          }
        },
        "4187f6e244214bbebabbb67f8eb0a5d9": {
          "model_module": "@jupyter-widgets/base",
          "model_name": "LayoutModel",
          "state": {
            "_view_name": "LayoutView",
            "grid_template_rows": null,
            "right": null,
            "justify_content": null,
            "_view_module": "@jupyter-widgets/base",
            "overflow": null,
            "_model_module_version": "1.2.0",
            "_view_count": null,
            "flex_flow": null,
            "width": null,
            "min_width": null,
            "border": null,
            "align_items": null,
            "bottom": null,
            "_model_module": "@jupyter-widgets/base",
            "top": null,
            "grid_column": null,
            "overflow_y": null,
            "overflow_x": null,
            "grid_auto_flow": null,
            "grid_area": null,
            "grid_template_columns": null,
            "flex": null,
            "_model_name": "LayoutModel",
            "justify_items": null,
            "grid_row": null,
            "max_height": null,
            "align_content": null,
            "visibility": null,
            "align_self": null,
            "height": null,
            "min_height": null,
            "padding": null,
            "grid_auto_rows": null,
            "grid_gap": null,
            "max_width": null,
            "order": null,
            "_view_module_version": "1.2.0",
            "grid_template_areas": null,
            "object_position": null,
            "object_fit": null,
            "grid_auto_columns": null,
            "margin": null,
            "display": null,
            "left": null
          }
        },
        "37ba1d85ee46420b867d1e40d3384bd6": {
          "model_module": "@jupyter-widgets/controls",
          "model_name": "FloatProgressModel",
          "state": {
            "_view_name": "ProgressView",
            "style": "IPY_MODEL_db2e965d65b04f0c8ccd99ea1ee0367d",
            "_dom_classes": [],
            "description": "100%",
            "_model_name": "FloatProgressModel",
            "bar_style": "success",
            "max": 500002,
            "_view_module": "@jupyter-widgets/controls",
            "_model_module_version": "1.5.0",
            "value": 500002,
            "_view_count": null,
            "_view_module_version": "1.5.0",
            "orientation": "horizontal",
            "min": 0,
            "description_tooltip": null,
            "_model_module": "@jupyter-widgets/controls",
            "layout": "IPY_MODEL_8027c0cd01ec407695b2c4c109231d79"
          }
        },
        "717fc1379bcf42daa69ab83b01821aa4": {
          "model_module": "@jupyter-widgets/controls",
          "model_name": "HTMLModel",
          "state": {
            "_view_name": "HTMLView",
            "style": "IPY_MODEL_1e0cc0bb41b8469e878fc53eecf2fc72",
            "_dom_classes": [],
            "description": "",
            "_model_name": "HTMLModel",
            "placeholder": "​",
            "_view_module": "@jupyter-widgets/controls",
            "_model_module_version": "1.5.0",
            "value": " 500002/500002 [01:26&lt;00:00, 5798.78it/s]",
            "_view_count": null,
            "_view_module_version": "1.5.0",
            "description_tooltip": null,
            "_model_module": "@jupyter-widgets/controls",
            "layout": "IPY_MODEL_aa09a8822b5e4719971ec01bbd6b4b53"
          }
        },
        "db2e965d65b04f0c8ccd99ea1ee0367d": {
          "model_module": "@jupyter-widgets/controls",
          "model_name": "ProgressStyleModel",
          "state": {
            "_view_name": "StyleView",
            "_model_name": "ProgressStyleModel",
            "description_width": "initial",
            "_view_module": "@jupyter-widgets/base",
            "_model_module_version": "1.5.0",
            "_view_count": null,
            "_view_module_version": "1.2.0",
            "bar_color": null,
            "_model_module": "@jupyter-widgets/controls"
          }
        },
        "8027c0cd01ec407695b2c4c109231d79": {
          "model_module": "@jupyter-widgets/base",
          "model_name": "LayoutModel",
          "state": {
            "_view_name": "LayoutView",
            "grid_template_rows": null,
            "right": null,
            "justify_content": null,
            "_view_module": "@jupyter-widgets/base",
            "overflow": null,
            "_model_module_version": "1.2.0",
            "_view_count": null,
            "flex_flow": null,
            "width": null,
            "min_width": null,
            "border": null,
            "align_items": null,
            "bottom": null,
            "_model_module": "@jupyter-widgets/base",
            "top": null,
            "grid_column": null,
            "overflow_y": null,
            "overflow_x": null,
            "grid_auto_flow": null,
            "grid_area": null,
            "grid_template_columns": null,
            "flex": null,
            "_model_name": "LayoutModel",
            "justify_items": null,
            "grid_row": null,
            "max_height": null,
            "align_content": null,
            "visibility": null,
            "align_self": null,
            "height": null,
            "min_height": null,
            "padding": null,
            "grid_auto_rows": null,
            "grid_gap": null,
            "max_width": null,
            "order": null,
            "_view_module_version": "1.2.0",
            "grid_template_areas": null,
            "object_position": null,
            "object_fit": null,
            "grid_auto_columns": null,
            "margin": null,
            "display": null,
            "left": null
          }
        },
        "1e0cc0bb41b8469e878fc53eecf2fc72": {
          "model_module": "@jupyter-widgets/controls",
          "model_name": "DescriptionStyleModel",
          "state": {
            "_view_name": "StyleView",
            "_model_name": "DescriptionStyleModel",
            "description_width": "",
            "_view_module": "@jupyter-widgets/base",
            "_model_module_version": "1.5.0",
            "_view_count": null,
            "_view_module_version": "1.2.0",
            "_model_module": "@jupyter-widgets/controls"
          }
        },
        "aa09a8822b5e4719971ec01bbd6b4b53": {
          "model_module": "@jupyter-widgets/base",
          "model_name": "LayoutModel",
          "state": {
            "_view_name": "LayoutView",
            "grid_template_rows": null,
            "right": null,
            "justify_content": null,
            "_view_module": "@jupyter-widgets/base",
            "overflow": null,
            "_model_module_version": "1.2.0",
            "_view_count": null,
            "flex_flow": null,
            "width": null,
            "min_width": null,
            "border": null,
            "align_items": null,
            "bottom": null,
            "_model_module": "@jupyter-widgets/base",
            "top": null,
            "grid_column": null,
            "overflow_y": null,
            "overflow_x": null,
            "grid_auto_flow": null,
            "grid_area": null,
            "grid_template_columns": null,
            "flex": null,
            "_model_name": "LayoutModel",
            "justify_items": null,
            "grid_row": null,
            "max_height": null,
            "align_content": null,
            "visibility": null,
            "align_self": null,
            "height": null,
            "min_height": null,
            "padding": null,
            "grid_auto_rows": null,
            "grid_gap": null,
            "max_width": null,
            "order": null,
            "_view_module_version": "1.2.0",
            "grid_template_areas": null,
            "object_position": null,
            "object_fit": null,
            "grid_auto_columns": null,
            "margin": null,
            "display": null,
            "left": null
          }
        }
      }
    }
  },
  "cells": [
    {
      "cell_type": "code",
      "metadata": {
        "colab": {
          "base_uri": "https://localhost:8080/"
        },
        "id": "1TenNKsQT_we",
        "outputId": "9068b49d-0266-407a-db2d-34224a04ab74"
      },
      "source": [
        "from google.colab import drive\n",
        "drive.mount('/content/drive')"
      ],
      "execution_count": null,
      "outputs": [
        {
          "output_type": "stream",
          "text": [
            "Mounted at /content/drive\n"
          ],
          "name": "stdout"
        }
      ]
    },
    {
      "cell_type": "code",
      "metadata": {
        "id": "QkFXlDJGwELN"
      },
      "source": [
        "!pip install razdel\n",
        "!pip install navec\n",
        "!pip install slovnet\n",
        "!pip install ipymarkup\n",
        "!pip install pymorphy2\n",
        "!wget https://storage.yandexcloud.net/natasha-navec/packs/navec_hudlit_v1_12B_500K_300d_100q.tar\n",
        "!wget https://storage.yandexcloud.net/natasha-slovnet/packs/slovnet_syntax_news_v1.tar\n",
        "!wget https://storage.yandexcloud.net/natasha-navec/packs/navec_news_v1_1B_250K_300d_100q.tar\n",
        "\n",
        "!wget https://github.com/dkulagin/kartaslov/raw/master/dataset/kartaslovsent/kartaslovsent.csv\n",
        "\n",
        "!pip3 install colorama"
      ],
      "execution_count": null,
      "outputs": []
    },
    {
      "cell_type": "code",
      "metadata": {
        "id": "AQl_rTAFt88z"
      },
      "source": [
        "import torch\n",
        "import torch.nn as nn\n",
        "import torch.nn.functional as F\n",
        "from torch.utils.data import Dataset, DataLoader\n",
        "\n",
        "from razdel import tokenize, sentenize\n",
        "from navec import Navec\n",
        "from slovnet.model.emb import NavecEmbedding\n",
        "from slovnet import Syntax\n",
        "\n",
        "import os\n",
        "import numpy as np\n",
        "import pandas as pd\n",
        "import matplotlib.pyplot as plt\n",
        "\n",
        "from tqdm.notebook import tqdm\n",
        "\n",
        "from sklearn.metrics import accuracy_score\n",
        "\n",
        "import pymorphy2\n",
        "\n",
        "from scipy.spatial.distance import cosine\n",
        "from sklearn.neighbors import  NearestNeighbors\n",
        "from sklearn.neighbors import KNeighborsClassifier as KNN\n",
        "\n",
        "from collections import defaultdict\n",
        "import re\n",
        "\n",
        "from json import dumps, load\n",
        "\n",
        "from colorama import Back\n",
        "\n",
        "\n",
        "np.random.seed(42)"
      ],
      "execution_count": null,
      "outputs": []
    },
    {
      "cell_type": "code",
      "metadata": {
        "colab": {
          "base_uri": "https://localhost:8080/",
          "height": 295
        },
        "id": "i-nfeUXm0h1i",
        "outputId": "355e2718-8131-42ae-9fe5-2fef55c1b153"
      },
      "source": [
        "data = pd.read_csv(PATH)\n",
        "def count_words(row):\n",
        "    return len(row.split())\n",
        "\n",
        "r = data['text'].apply(count_words)\n",
        "plt.hist(r, bins=350)\n",
        "plt.title('Распределение числа слов в отзывах.')\n",
        "plt.xlabel('Число слов')\n",
        "plt.xlim((0, 700))  # лимит на 700 словах, но максимум слов порядка 1000\n",
        "plt.show()"
      ],
      "execution_count": null,
      "outputs": [
        {
          "output_type": "display_data",
          "data": {
            "image/png": "[encoded data removed]",
            "text/plain": [
              "<Figure size 432x288 with 1 Axes>"
            ]
          },
          "metadata": {
            "tags": [],
            "needs_background": "light"
          }
        }
      ]
    },
    {
      "cell_type": "code",
      "metadata": {
        "id": "6QqlVOLOzItf"
      },
      "source": [
        "path = '/content/navec_hudlit_v1_12B_500K_300d_100q.tar'\n",
        "navec = Navec.load(path)"
      ],
      "execution_count": null,
      "outputs": []
    },
    {
      "cell_type": "code",
      "metadata": {
        "id": "9X4b-Vq5w6XE"
      },
      "source": [
        "class TextDataset(Dataset):    \n",
        "    def __init__(self):\n",
        "        self.targets = {\"neg\": 0, \"neu\": 1, \"pos\": 2}\n",
        "        self.max_len = 700\n",
        "        self.data = pd.read_csv(PATH).iloc[:70000]\n",
        "        #self.data = self.data.filter(lambda x: len(x['text'].split()) > 50)\n",
        "        \n",
        "    def __len__(self):\n",
        "        return len(self.data)\n",
        "    \n",
        "    def __getitem__(self, idx):\n",
        "        sample, target = self.data.iloc[idx]\n",
        "        sample = [_.text for _ in tokenize(sample)]\n",
        "        if len(sample) > self.max_len:\n",
        "          sample = sample[:self.max_len]\n",
        "        sample = sample + [\"<PAD>\"]*(self.max_len-len(sample))\n",
        "        sample = [navec.vocab.get(x, navec.vocab.unk_id) for x in sample]\n",
        "        target = self.targets[target]\n",
        "        return torch.LongTensor(sample), torch.LongTensor([target])"
      ],
      "execution_count": null,
      "outputs": []
    },
    {
      "cell_type": "code",
      "metadata": {
        "id": "GzLNStpPz6lU"
      },
      "source": [
        "batch_size = 200\n",
        "dataset = TextDataset()\n",
        "train_size = int(0.8 * len(dataset))\n",
        "test_size = len(dataset) - train_size\n",
        "train_set, test_set = torch.utils.data.random_split(dataset, [train_size, test_size])\n",
        "train_iterator = DataLoader(train_set, batch_size=batch_size, shuffle=True)\n",
        "test_iterator = DataLoader(test_set, batch_size=batch_size)\n",
        "device = torch.device(\"cuda\") if torch.cuda.is_available() else torch.device(\"cpu\")"
      ],
      "execution_count": null,
      "outputs": []
    },
    {
      "cell_type": "code",
      "metadata": {
        "id": "huLIP8yg8Bbg"
      },
      "source": [
        "class RNN(nn.Module):\n",
        "    def __init__(self, input_dim, embedding_dim, hidden_dim, output_dim, num_layers, dropout, bidirectional=False):\n",
        "        super().__init__()\n",
        "        self.num_layers = num_layers\n",
        "        self.hidden_dim = hidden_dim\n",
        "        self.embedding = NavecEmbedding(navec)\n",
        "        self.bi = bidirectional\n",
        "        self.rnn = nn.GRU(embedding_dim, hidden_dim, dropout = dropout, num_layers=self.num_layers, bidirectional=self.bi)\n",
        "        self.fc = nn.Linear(hidden_dim*self.num_layers, output_dim)\n",
        "        self.dropout = nn.Dropout(dropout)\n",
        "        self.softmax = nn.Softmax(1)\n",
        "\n",
        "    def init_hidden(self, batch_size):\n",
        "        mult = 2 if self.bi else 1\n",
        "        return torch.zeros(mult * self.num_layers, batch_size, self.hidden_dim).to(device)\n",
        "        \n",
        "    def forward(self, x):\n",
        "        #text,shape = [sent len, batch size]\n",
        "        \n",
        "        embedded = self.embedding(x)  # Делаем эмбеддинг\n",
        "        #embedded.shape = [sent len, batch size, emb dim]\n",
        "        #print(embedded.shape)\n",
        "        output, self.hidden =  self.rnn.forward(embedded, self.hidden)   # Прогоняем через Rnn\n",
        "        #hidden.shape = [1, batch size, hid dim]\n",
        "        #print(self.hidden)\n",
        "        x = self.fc(torch.cat((self.hidden[-2,:,:], self.hidden[-1,:,:]), dim = 1))\n",
        "        x = self.dropout(x)\n",
        "        return x.squeeze(0)"
      ],
      "execution_count": null,
      "outputs": []
    },
    {
      "cell_type": "code",
      "metadata": {
        "colab": {
          "base_uri": "https://localhost:8080/"
        },
        "id": "MaXHWVGK9Tdf",
        "outputId": "7af83e55-f844-499d-fdd2-bb24253873dc"
      },
      "source": [
        "import torch.optim as optim\n",
        "\n",
        "INP_DIM = 700\n",
        "EMB_DIM = 300\n",
        "HID_DIM = 512\n",
        "NUM_LAYERS = 2\n",
        "DROPOUT = 0.75\n",
        "OUT_DIM = 3\n",
        "N_EPOCH = 15\n",
        "BIDIRECTIONAL = True\n",
        "\n",
        "\n",
        "model = RNN(INP_DIM, EMB_DIM, HID_DIM, OUT_DIM, NUM_LAYERS, DROPOUT, BIDIRECTIONAL).to(device)\n",
        "criterion = nn.CrossEntropyLoss().to(device)\n",
        "optimizer = optim.Adam(model.parameters(), lr=0.001)"
      ],
      "execution_count": null,
      "outputs": [
        {
          "output_type": "stream",
          "text": [
            "/usr/local/lib/python3.7/dist-packages/slovnet/model/emb.py:46: UserWarning: The given NumPy array is not writeable, and PyTorch does not support non-writeable tensors. This means you can write to the underlying (supposedly non-writeable) NumPy array using the tensor. You may want to copy the array to protect its data or make it writeable before converting it to a tensor. This type of warning will be suppressed for the rest of this program. (Triggered internally at  /pytorch/torch/csrc/utils/tensor_numpy.cpp:180.)\n",
            "  torch.from_numpy(navec.pq.indexes),\n"
          ],
          "name": "stderr"
        }
      ]
    },
    {
      "cell_type": "code",
      "metadata": {
        "colab": {
          "base_uri": "https://localhost:8080/"
        },
        "id": "ho5dBjITI2MC",
        "outputId": "0629285c-84ea-46da-9dc8-41bab1c6ee92"
      },
      "source": [
        "losses_train = []\n",
        "losses_test = []\n",
        "\n",
        "for i in range(N_EPOCH):\n",
        "  model.train()\n",
        "  avg_loss = 0\n",
        "  for j, (x, y) in tqdm(enumerate(train_iterator, 1), total=len(train_iterator), position=0, leave=True):\n",
        "    y = y.squeeze(1).to(device)\n",
        "    x = x.permute(1, 0).to(device)\n",
        "    optimizer.zero_grad()\n",
        "    model.hidden = model.init_hidden(x.size(1)) \n",
        "    output = model.forward(x)\n",
        "    loss_train = criterion(output, y)\n",
        "    loss_train.backward()\n",
        "    avg_loss += loss_train.item()\n",
        "    torch.nn.utils.clip_grad_norm_(model.parameters(), 0.2)\n",
        "    optimizer.step()\n",
        "  losses_train.append(avg_loss / j)\n",
        "  avg_loss = 0\n",
        "  model.eval()\n",
        "  test_acc = []\n",
        "  for j, (x, y) in tqdm(enumerate(test_iterator, 1), total=len(test_iterator), position=0, leave=True):\n",
        "    y = y.squeeze(1).to(device)\n",
        "    x = x.permute(1, 0).to(device)\n",
        "    model.hidden = model.init_hidden(x.size(1)) \n",
        "    output = model.forward(x)\n",
        "    test_acc.append(accuracy_score(torch.argmax(output, axis=1).cpu(), y.cpu()))\n",
        "    loss_test = criterion(output, y)\n",
        "    avg_loss += loss_test.item()\n",
        "  losses_test.append(avg_loss / j)\n",
        "\n",
        "  print(\"\\nepoch\", i)\n",
        "  print(\"train_loss\", losses_train[-1])\n",
        "  print(\"test_loss\", losses_test[-1], \", test accuracy\", np.array(test_acc).mean())\n",
        "  print()"
      ],
      "execution_count": null,
      "outputs": [
        {
          "output_type": "stream",
          "text": [
            "100%|██████████| 280/280 [12:50<00:00,  2.75s/it]\n",
            "100%|██████████| 70/70 [01:32<00:00,  1.33s/it]\n",
            "  0%|          | 0/280 [00:00<?, ?it/s]"
          ],
          "name": "stderr"
        },
        {
          "output_type": "stream",
          "text": [
            "\n",
            "epoch 0\n",
            "train_loss 0.8597637319139072\n",
            "test_loss 0.6090377994946071 , test accuracy 0.8067857142857144\n",
            "\n"
          ],
          "name": "stdout"
        },
        {
          "output_type": "stream",
          "text": [
            "100%|██████████| 280/280 [12:50<00:00,  2.75s/it]\n",
            "100%|██████████| 70/70 [01:33<00:00,  1.33s/it]\n",
            "  0%|          | 0/280 [00:00<?, ?it/s]"
          ],
          "name": "stderr"
        },
        {
          "output_type": "stream",
          "text": [
            "\n",
            "epoch 1\n",
            "train_loss 0.8477341773254531\n",
            "test_loss 0.5552148529461451 , test accuracy 0.8022142857142859\n",
            "\n"
          ],
          "name": "stdout"
        },
        {
          "output_type": "stream",
          "text": [
            "100%|██████████| 280/280 [12:49<00:00,  2.75s/it]\n",
            "100%|██████████| 70/70 [01:32<00:00,  1.32s/it]\n",
            "  0%|          | 0/280 [00:00<?, ?it/s]"
          ],
          "name": "stderr"
        },
        {
          "output_type": "stream",
          "text": [
            "\n",
            "epoch 2\n",
            "train_loss 0.8414186296718461\n",
            "test_loss 0.5551061621734075 , test accuracy 0.8027142857142857\n",
            "\n"
          ],
          "name": "stdout"
        },
        {
          "output_type": "stream",
          "text": [
            "100%|██████████| 280/280 [12:48<00:00,  2.74s/it]\n",
            "100%|██████████| 70/70 [01:32<00:00,  1.32s/it]\n",
            "  0%|          | 0/280 [00:00<?, ?it/s]"
          ],
          "name": "stderr"
        },
        {
          "output_type": "stream",
          "text": [
            "\n",
            "epoch 3\n",
            "train_loss 0.8330604527677808\n",
            "test_loss 0.5697154326098306 , test accuracy 0.7899285714285713\n",
            "\n"
          ],
          "name": "stdout"
        },
        {
          "output_type": "stream",
          "text": [
            "100%|██████████| 280/280 [12:48<00:00,  2.74s/it]\n",
            " 31%|███▏      | 22/70 [00:29<01:03,  1.32s/it]"
          ],
          "name": "stderr"
        }
      ]
    },
    {
      "cell_type": "code",
      "metadata": {
        "colab": {
          "base_uri": "https://localhost:8080/",
          "height": 282
        },
        "id": "O7vB1EScJ4Er",
        "outputId": "4c19e53b-c413-4420-c45f-887c82e77a76"
      },
      "source": [
        "plt.plot(losses_train, label=\"train\")\n",
        "plt.plot(losses_test, label =\"test\")\n",
        "plt.legend()"
      ],
      "execution_count": null,
      "outputs": [
        {
          "output_type": "execute_result",
          "data": {
            "text/plain": [
              "<matplotlib.legend.Legend at 0x7f5985ff3590>"
            ]
          },
          "metadata": {
            "tags": []
          },
          "execution_count": 23
        },
        {
          "output_type": "display_data",
          "data": {
            "image/png": "[encoded data removed]",
            "text/plain": [
              "<Figure size 432x288 with 1 Axes>"
            ]
          },
          "metadata": {
            "tags": []
          }
        }
      ]
    },
    {
      "cell_type": "code",
      "metadata": {
        "colab": {
          "base_uri": "https://localhost:8080/"
        },
        "id": "_vKDBdYBNGMO",
        "outputId": "01dcbe81-cc11-44a4-c7e1-1c47fe5ab305"
      },
      "source": [
        "results = []\n",
        "model.eval()\n",
        "for x, y in train_iterator:\n",
        "    y = y.squeeze(1).to(device)\n",
        "    x = x.permute(1, 0).to(device)\n",
        "    model.hidden = model.init_hidden(x.size(1)) \n",
        "    output = model.forward(x)\n",
        "    results.append(accuracy_score(torch.argmax(output, axis = 1).cpu(), y.cpu()))\n",
        "\n",
        "print(np.array(results).mean())\n"
      ],
      "execution_count": null,
      "outputs": [
        {
          "output_type": "stream",
          "text": [
            "0.831375\n"
          ],
          "name": "stdout"
        }
      ]
    },
    {
      "cell_type": "code",
      "metadata": {
        "colab": {
          "base_uri": "https://localhost:8080/"
        },
        "id": "6RoZTj4KXmlw",
        "outputId": "6643b784-10f8-4173-a91f-44be52e509ff"
      },
      "source": [
        "results = []\n",
        "model.eval()\n",
        "for x, y in test_iterator:\n",
        "    y = y.squeeze(1).to(device)\n",
        "    x = x.permute(1, 0).to(device)\n",
        "    model.hidden = model.init_hidden(x.size(1)) \n",
        "    output = model.forward(x)\n",
        "    results.append(accuracy_score(torch.argmax(output, axis = 1).cpu(), y.cpu()))\n",
        "\n",
        "print(np.array(results).mean())"
      ],
      "execution_count": null,
      "outputs": [
        {
          "output_type": "stream",
          "text": [
            "0.803642857142857\n"
          ],
          "name": "stdout"
        }
      ]
    },
    {
      "cell_type": "code",
      "metadata": {
        "id": "m6B7Eg5J4S8b"
      },
      "source": [
        "bi = \"\" if BIDIRECTIONAL else \"non \"\n",
        "#torch.save(model.state_dict(), f\"{PATH_SAVE}navec_{EMB_DIM}_h_{HID_DIM}_GRU({bi}bi)_drop_{DROPOUT}_{N_EPOCH}_epochs.pth\")"
      ],
      "execution_count": null,
      "outputs": []
    },
    {
      "cell_type": "code",
      "metadata": {
        "colab": {
          "base_uri": "https://localhost:8080/"
        },
        "id": "7sam_K_2H22s",
        "outputId": "e9f95b06-71d9-422d-dba6-730a8568a6a4"
      },
      "source": [
        "bi = \"\" if BIDIRECTIONAL else \"non \"\n",
        "model.load_state_dict(torch.load(f\"{PATH_SAVE}navec_{EMB_DIM}_h_{HID_DIM}_GRU({bi}bi)_drop_{DROPOUT}_{N_EPOCH}_epochs.pth\"))\n",
        "model.eval()"
      ],
      "execution_count": null,
      "outputs": [
        {
          "output_type": "execute_result",
          "data": {
            "text/plain": [
              "RNN(\n",
              "  (embedding): NavecEmbedding(id='hudlit_v1_12B_500K_300d_100q', indexes=[...], codes=[...])\n",
              "  (rnn): GRU(300, 512, num_layers=2, dropout=0.75, bidirectional=True)\n",
              "  (fc): Linear(in_features=1024, out_features=3, bias=True)\n",
              "  (dropout): Dropout(p=0.75, inplace=False)\n",
              "  (softmax): Softmax(dim=1)\n",
              ")"
            ]
          },
          "metadata": {
            "tags": []
          },
          "execution_count": 11
        }
      ]
    },
    {
      "cell_type": "markdown",
      "metadata": {
        "id": "C0Wq5xYsVC4t"
      },
      "source": [
        "## Анализ атрибутивной тональности и визуализация"
      ]
    },
    {
      "cell_type": "markdown",
      "metadata": {
        "id": "2fGPLnQCDTQq"
      },
      "source": [
        "## kNN только по эталонным словам (словам из словаря тональности)"
      ]
    },
    {
      "cell_type": "markdown",
      "metadata": {
        "id": "R3iKOfBhqKmu"
      },
      "source": [
        "Возьмем проекцию на 2 измерения с помощью PCA"
      ]
    },
    {
      "cell_type": "code",
      "metadata": {
        "id": "nOcY9vGy8oT1"
      },
      "source": [
        "emb = torch.Tensor([navec[vec] for vec in navec.vocab.words])\n",
        "words = navec.vocab.words"
      ],
      "execution_count": null,
      "outputs": []
    },
    {
      "cell_type": "code",
      "metadata": {
        "id": "V1ImCNTMDmSF"
      },
      "source": [
        "n_dim = 2\n",
        "u, s, vh = torch.pca_lowrank(emb)\n",
        "s[n_dim::] = 0\n",
        "emb_2d = torch.matmul(emb, vh[:, :n_dim])\n"
      ],
      "execution_count": null,
      "outputs": []
    },
    {
      "cell_type": "code",
      "metadata": {
        "colab": {
          "base_uri": "https://localhost:8080/",
          "height": 195
        },
        "id": "n25up2a7FhcJ",
        "outputId": "4f568b13-21b3-4052-8b99-ea6e2485f8fa"
      },
      "source": [
        "tonal_dict = pd.read_csv(\"/content/kartaslovsent.csv\", sep=\";\")\n",
        "tonal_dict.head()"
      ],
      "execution_count": null,
      "outputs": [
        {
          "output_type": "execute_result",
          "data": {
            "text/html": [
              "<div>\n",
              "<style scoped>\n",
              "    .dataframe tbody tr th:only-of-type {\n",
              "        vertical-align: middle;\n",
              "    }\n",
              "\n",
              "    .dataframe tbody tr th {\n",
              "        vertical-align: top;\n",
              "    }\n",
              "\n",
              "    .dataframe thead th {\n",
              "        text-align: right;\n",
              "    }\n",
              "</style>\n",
              "<table border=\"1\" class=\"dataframe\">\n",
              "  <thead>\n",
              "    <tr style=\"text-align: right;\">\n",
              "      <th></th>\n",
              "      <th>term</th>\n",
              "      <th>tag</th>\n",
              "      <th>value</th>\n",
              "      <th>pstv</th>\n",
              "      <th>ngtv</th>\n",
              "      <th>neut</th>\n",
              "      <th>dunno</th>\n",
              "      <th>pstvNgtvDisagreementRatio</th>\n",
              "    </tr>\n",
              "  </thead>\n",
              "  <tbody>\n",
              "    <tr>\n",
              "      <th>0</th>\n",
              "      <td>абажур</td>\n",
              "      <td>NEUT</td>\n",
              "      <td>0.08</td>\n",
              "      <td>0.185</td>\n",
              "      <td>0.037</td>\n",
              "      <td>0.580</td>\n",
              "      <td>0.198</td>\n",
              "      <td>0.00</td>\n",
              "    </tr>\n",
              "    <tr>\n",
              "      <th>1</th>\n",
              "      <td>аббатство</td>\n",
              "      <td>NEUT</td>\n",
              "      <td>0.10</td>\n",
              "      <td>0.192</td>\n",
              "      <td>0.038</td>\n",
              "      <td>0.578</td>\n",
              "      <td>0.192</td>\n",
              "      <td>0.00</td>\n",
              "    </tr>\n",
              "    <tr>\n",
              "      <th>2</th>\n",
              "      <td>аббревиатура</td>\n",
              "      <td>NEUT</td>\n",
              "      <td>0.08</td>\n",
              "      <td>0.196</td>\n",
              "      <td>0.000</td>\n",
              "      <td>0.630</td>\n",
              "      <td>0.174</td>\n",
              "      <td>0.00</td>\n",
              "    </tr>\n",
              "    <tr>\n",
              "      <th>3</th>\n",
              "      <td>абзац</td>\n",
              "      <td>NEUT</td>\n",
              "      <td>0.00</td>\n",
              "      <td>0.137</td>\n",
              "      <td>0.000</td>\n",
              "      <td>0.706</td>\n",
              "      <td>0.157</td>\n",
              "      <td>0.00</td>\n",
              "    </tr>\n",
              "    <tr>\n",
              "      <th>4</th>\n",
              "      <td>абиссинец</td>\n",
              "      <td>NEUT</td>\n",
              "      <td>0.28</td>\n",
              "      <td>0.151</td>\n",
              "      <td>0.113</td>\n",
              "      <td>0.245</td>\n",
              "      <td>0.491</td>\n",
              "      <td>0.19</td>\n",
              "    </tr>\n",
              "  </tbody>\n",
              "</table>\n",
              "</div>"
            ],
            "text/plain": [
              "           term   tag  value  ...   neut  dunno  pstvNgtvDisagreementRatio\n",
              "0        абажур  NEUT   0.08  ...  0.580  0.198                       0.00\n",
              "1     аббатство  NEUT   0.10  ...  0.578  0.192                       0.00\n",
              "2  аббревиатура  NEUT   0.08  ...  0.630  0.174                       0.00\n",
              "3         абзац  NEUT   0.00  ...  0.706  0.157                       0.00\n",
              "4     абиссинец  NEUT   0.28  ...  0.245  0.491                       0.19\n",
              "\n",
              "[5 rows x 8 columns]"
            ]
          },
          "metadata": {
            "tags": []
          },
          "execution_count": 13
        }
      ]
    },
    {
      "cell_type": "code",
      "metadata": {
        "colab": {
          "base_uri": "https://localhost:8080/",
          "height": 282
        },
        "id": "bOxdVJKfGnsy",
        "outputId": "5235adc6-06b2-435c-e72a-489183de137d"
      },
      "source": [
        "plt.bar(tonal_dict.tag.unique(), tonal_dict.tag.value_counts())"
      ],
      "execution_count": null,
      "outputs": [
        {
          "output_type": "execute_result",
          "data": {
            "text/plain": [
              "<BarContainer object of 3 artists>"
            ]
          },
          "metadata": {
            "tags": []
          },
          "execution_count": 14
        },
        {
          "output_type": "display_data",
          "data": {
            "image/png": "[encoded data removed]",
            "text/plain": [
              "<Figure size 432x288 with 1 Axes>"
            ]
          },
          "metadata": {
            "tags": [],
            "needs_background": "light"
          }
        }
      ]
    },
    {
      "cell_type": "code",
      "metadata": {
        "colab": {
          "base_uri": "https://localhost:8080/",
          "height": 66,
          "referenced_widgets": [
            "670c65607459432fa40636b4b5d06c74",
            "4187f6e244214bbebabbb67f8eb0a5d9",
            "37ba1d85ee46420b867d1e40d3384bd6",
            "717fc1379bcf42daa69ab83b01821aa4",
            "db2e965d65b04f0c8ccd99ea1ee0367d",
            "8027c0cd01ec407695b2c4c109231d79",
            "1e0cc0bb41b8469e878fc53eecf2fc72",
            "aa09a8822b5e4719971ec01bbd6b4b53"
          ]
        },
        "id": "2IgjE5CJZ-Sp",
        "outputId": "5565af4c-7480-499c-ec75-ff3d47bdc685"
      },
      "source": [
        "morph = pymorphy2.MorphAnalyzer()\n",
        "\n",
        "cnt = 0\n",
        "adjs = []\n",
        "for w in tqdm(words):\n",
        "  m = morph.parse(w)\n",
        "  if m[0].tag.POS in [\"ADJF\", \"ADJS\"]:\n",
        "    adjs.append(cnt)\n",
        "  cnt+=1"
      ],
      "execution_count": null,
      "outputs": [
        {
          "output_type": "display_data",
          "data": {
            "application/vnd.jupyter.widget-view+json": {
              "model_id": "670c65607459432fa40636b4b5d06c74",
              "version_minor": 0,
              "version_major": 2
            },
            "text/plain": [
              "HBox(children=(FloatProgress(value=0.0, max=500002.0), HTML(value='')))"
            ]
          },
          "metadata": {
            "tags": []
          }
        },
        {
          "output_type": "stream",
          "text": [
            "\n"
          ],
          "name": "stdout"
        }
      ]
    },
    {
      "cell_type": "code",
      "metadata": {
        "colab": {
          "base_uri": "https://localhost:8080/"
        },
        "id": "OzKxpXQgaAIZ",
        "outputId": "65c77248-2f3c-4ee0-bbc6-a567e1f47f4f"
      },
      "source": [
        "print(len(adjs))\n",
        "words = np.array(words)\n",
        "words_adjs = words[adjs]\n",
        "emb2d_adjs = emb_2d[adjs, :]\n",
        "emb_adjs = emb[adjs, :]\n",
        "emb2d_words_adjs = {word: emb for word,emb in zip(words_adjs, emb2d_adjs)}\n",
        "#words_emb2d_adjs = {emb: word for word,emb in zip(words_adjs, emb2d_adjs)}\n",
        "emb_words_adjs = {word: emb for word,emb in zip(words_adjs, emb_adjs)}\n",
        "#words_emb_adjs = {emb: word for word,emb in zip(words_adjs, emb_adjs)}\n"
      ],
      "execution_count": null,
      "outputs": [
        {
          "output_type": "stream",
          "text": [
            "98840\n"
          ],
          "name": "stdout"
        }
      ]
    },
    {
      "cell_type": "code",
      "metadata": {
        "colab": {
          "base_uri": "https://localhost:8080/"
        },
        "id": "lQgH1p77DZw6",
        "outputId": "97d4b45e-1ea2-47a2-90db-f2aaeefdc0ed"
      },
      "source": [
        "standard_words = [word for word in tonal_dict.term if word in emb_words_adjs]\n",
        "print(f\"Total standard words: {len(standard_words)}\")"
      ],
      "execution_count": null,
      "outputs": [
        {
          "output_type": "stream",
          "text": [
            "Total standard words: 6440\n"
          ],
          "name": "stdout"
        }
      ]
    },
    {
      "cell_type": "code",
      "metadata": {
        "id": "-orybMdBJ4Tz"
      },
      "source": [
        "import random\n",
        "random.shuffle(standard_words)\n",
        "# разделим на train и test\n",
        "standard_words_train = standard_words[:int(0.8*len(standard_words))]\n",
        "standard_words_test = standard_words[int(0.8*len(standard_words)):]"
      ],
      "execution_count": null,
      "outputs": []
    },
    {
      "cell_type": "code",
      "metadata": {
        "id": "kJfftvGGGDpT"
      },
      "source": [
        "classes = {\"PSTV\": 0, \"NEUT\": 1, \"NGTV\": 2}\n",
        "dict_pairs_train = dict(tonal_dict[[\"term\", \"tag\"]][tonal_dict.term.isin(standard_words_train)].itertuples(index=False))\n",
        "X_train = np.array([emb_words_adjs[word].numpy() for word in dict_pairs_train])\n",
        "y_train = np.array([classes[dict_pairs_train[word]] for word in dict_pairs_train])\n",
        "\n",
        "dict_pairs_test = dict(tonal_dict[[\"term\", \"tag\"]][tonal_dict.term.isin(standard_words_test)].itertuples(index=False))\n",
        "X_test = np.array([emb_words_adjs[word].numpy() for word in dict_pairs_test])\n",
        "y_test = np.array([classes[dict_pairs_test[word]] for word in dict_pairs_test])"
      ],
      "execution_count": null,
      "outputs": []
    },
    {
      "cell_type": "code",
      "metadata": {
        "colab": {
          "base_uri": "https://localhost:8080/",
          "height": 450
        },
        "id": "bEZ7qu2-4m6h",
        "outputId": "f992e74e-ba0a-420d-d014-60cfda59197f"
      },
      "source": [
        "from sklearn.metrics import f1_score\n",
        "\n",
        "scores = []\n",
        "_n_neighbors = [5, 10, 20, 25, 30, 35, 40, 50, 55, 60]\n",
        "for n_neigh in _n_neighbors:\n",
        "  print(n_neigh)\n",
        "  estimator = KNN(n_neighbors=n_neigh, metric='euclidean', n_jobs=-1)\n",
        "  estimator.fit(X_train, y_train)\n",
        "  predicted = estimator.predict(X_test)\n",
        "  scores.append(f1_score(predicted, y_test, average=\"micro\"))\n",
        "\n",
        "plt.plot(_n_neighbors, scores)"
      ],
      "execution_count": null,
      "outputs": [
        {
          "output_type": "stream",
          "text": [
            "5\n",
            "10\n",
            "20\n",
            "25\n",
            "30\n",
            "35\n",
            "40\n",
            "50\n",
            "55\n",
            "60\n"
          ],
          "name": "stdout"
        },
        {
          "output_type": "execute_result",
          "data": {
            "text/plain": [
              "[<matplotlib.lines.Line2D at 0x7f0007b653d0>]"
            ]
          },
          "metadata": {
            "tags": []
          },
          "execution_count": 37
        },
        {
          "output_type": "display_data",
          "data": {
            "image/png": "[encoded data removed]",
            "text/plain": [
              "<Figure size 432x288 with 1 Axes>"
            ]
          },
          "metadata": {
            "tags": [],
            "needs_background": "light"
          }
        }
      ]
    },
    {
      "cell_type": "code",
      "metadata": {
        "colab": {
          "base_uri": "https://localhost:8080/"
        },
        "id": "pszs03-LG3DI",
        "outputId": "1c71b62a-80f8-43eb-f89a-09e1a7f0d8ca"
      },
      "source": [
        "estimator = KNN(n_neighbors=25, metric='euclidean', n_jobs=-1)\n",
        "estimator.fit(X_train, y_train)"
      ],
      "execution_count": null,
      "outputs": [
        {
          "output_type": "execute_result",
          "data": {
            "text/plain": [
              "KNeighborsClassifier(algorithm='auto', leaf_size=30, metric='euclidean',\n",
              "                     metric_params=None, n_jobs=-1, n_neighbors=25, p=2,\n",
              "                     weights='uniform')"
            ]
          },
          "metadata": {
            "tags": []
          },
          "execution_count": 38
        }
      ]
    },
    {
      "cell_type": "code",
      "metadata": {
        "id": "czm9wbVcjncX"
      },
      "source": [
        "from sklearn.externals import joblib\n",
        "joblib.dump(estimator, 'KNN.pkl')\n",
        "estimator  = joblib.load('KNN.pkl' , mmap_mode ='r')"
      ],
      "execution_count": null,
      "outputs": []
    },
    {
      "cell_type": "code",
      "metadata": {
        "colab": {
          "base_uri": "https://localhost:8080/"
        },
        "id": "LDmllInPbCpO",
        "outputId": "d08c0028-5c8f-4617-ed94-87833c0664ce"
      },
      "source": [
        "# from sklearn.naive_bayes import GaussianNB\n",
        "# estimator = GaussianNB()\n",
        "# estimator.fit(X_train, y_train)"
      ],
      "execution_count": null,
      "outputs": [
        {
          "output_type": "execute_result",
          "data": {
            "text/plain": [
              "GaussianNB(priors=None, var_smoothing=1e-09)"
            ]
          },
          "metadata": {
            "tags": []
          },
          "execution_count": 28
        }
      ]
    },
    {
      "cell_type": "code",
      "metadata": {
        "colab": {
          "base_uri": "https://localhost:8080/"
        },
        "id": "534F-yL6JLkh",
        "outputId": "464e608f-1ee7-451d-ec09-9cf54af89bc2"
      },
      "source": [
        "from sklearn.metrics import classification_report\n",
        "\n",
        "predicted = estimator.predict(X_test)\n",
        "print(classification_report(predicted, y_test, target_names=[\"PSTV\", \"NEUT\", \"NGTV\"]))"
      ],
      "execution_count": null,
      "outputs": [
        {
          "output_type": "stream",
          "text": [
            "              precision    recall  f1-score   support\n",
            "\n",
            "        PSTV       0.51      0.83      0.64       139\n",
            "        NEUT       0.90      0.81      0.85       889\n",
            "        NGTV       0.68      0.70      0.69       260\n",
            "\n",
            "    accuracy                           0.79      1288\n",
            "   macro avg       0.70      0.78      0.72      1288\n",
            "weighted avg       0.81      0.79      0.79      1288\n",
            "\n"
          ],
          "name": "stdout"
        }
      ]
    },
    {
      "cell_type": "code",
      "metadata": {
        "colab": {
          "base_uri": "https://localhost:8080/",
          "height": 863
        },
        "id": "IWk3NkI1YA1K",
        "outputId": "be53a4a9-8ac1-4d2a-f5d2-b81ab6316980"
      },
      "source": [
        "coords_2d = np.array([emb2d_words_adjs[word].numpy() for word in dict_pairs_test])\n",
        "\n",
        "plt.figure(figsize=(15, 15))\n",
        "plt.scatter(coords_2d[predicted == 0][:, 0], coords_2d[predicted == 0][:, 1], label=\"PSTV\")\n",
        "# plt.scatter(coords_2d[predicted == 0][:, 0], coords_2d[predicted == 0][:, 1], label=\"NEUT\")\n",
        "plt.scatter(coords_2d[predicted == 2][:, 0], coords_2d[predicted == 2][:, 1], label=\"NGTV\")\n",
        "plt.legend()\n",
        "plt.show()"
      ],
      "execution_count": null,
      "outputs": [
        {
          "output_type": "display_data",
          "data": {
            "image/png": "[encoded data removed]",
            "text/plain": [
              "<Figure size 1080x1080 with 1 Axes>"
            ]
          },
          "metadata": {
            "tags": [],
            "needs_background": "light"
          }
        }
      ]
    },
    {
      "cell_type": "markdown",
      "metadata": {
        "id": "G0hCZhK9rTYd"
      },
      "source": [
        "## Работа с настоящими отзывами"
      ]
    },
    {
      "cell_type": "code",
      "metadata": {
        "id": "zBJX3N2lXqUi"
      },
      "source": [
        "navec_news = Navec.load('navec_news_v1_1B_250K_300d_100q.tar')\n",
        "syntax = Syntax.load('slovnet_syntax_news_v1.tar')\n",
        "syntax.navec(navec_news)"
      ],
      "execution_count": null,
      "outputs": []
    },
    {
      "cell_type": "code",
      "metadata": {
        "colab": {
          "base_uri": "https://localhost:8080/"
        },
        "id": "S4UhkzWIm52i",
        "outputId": "8a24101a-e445-4f0f-cd27-5aead810198e"
      },
      "source": [
        "chunk = []\n",
        "r = data.iloc[np.random.choice(range(len(data)))][\"text\"]\n",
        "rewiew = [_.text for _ in tokenize(r)]\n",
        "for sent in sentenize(r):\n",
        "  tokens = [_.text for _ in tokenize(sent.text)]\n",
        "  chunk.append(tokens)\n",
        "\n",
        "print(r)\n",
        "\n",
        "\n",
        "\n",
        "\n",
        "for markup in syntax.map(chunk):\n",
        "  for token in markup.tokens:\n",
        "      w = token.text\n",
        "      m = morph.parse(w)\n",
        "      if m[0].tag.POS in [\"ADJF\", \"ADJS\"]:\n",
        "        n_f = m[0].normal_form\n",
        "        if n_f in emb_words_adjs:\n",
        "          e = emb_words_adjs[n_f]\n",
        "          pred_class  = estimator.predict(e.reshape(1, -1))[0]\n",
        "          pred_word_token = markup.tokens[int(token.head_id)-1]\n",
        "          m = morph.parse(pred_word_token.text)\n",
        "          if not m[0].tag.POS in [\"NOUN\", \"NPRO\"] or m[0].normal_form in ['который', 'свой', 'тот', 'этот', 'весь', 'такой', 'такого', 'какой-то', 'самый']:\n",
        "              continue\n",
        "          # while True:\n",
        "          #   m = morph.parse(pred_word_token.text)\n",
        "          #   if m[0].tag.POS in [\"NOUN\", \"NPRO\"]:\n",
        "          #     break\n",
        "          #   if pred_word_token.head_id == '0' or pred_word_token.head_id == pred_id:\n",
        "          #     break\n",
        "          #   pred_id = pred_word_token.id\n",
        "          #   pred_word_token = markup.tokens[int(pred_word_token.head_id)-1]\n",
        "\n",
        "          template = pred_word_token.text\n",
        "          if pred_class == 0:\n",
        "            #print(f\"{w}: proba_good-{proba_good}\")\n",
        "            print(f\"{template} {Back.GREEN+w+Back.RESET}\")\n",
        "            pass\n",
        "          elif pred_class == 2:\n",
        "            #print(f\"{w}: proba_bad-{proba_bad}\")\n",
        "            print(f\"{template} {Back.RED+w+Back.RESET}\")\n",
        "            \n",
        "\n",
        "  "
      ],
      "execution_count": null,
      "outputs": [
        {
          "output_type": "stream",
          "text": [
            "Начав свою карьеру еще в конце 1980-х, лишь к середине следующего десятилетия, в 1995 году, режиссер Брайан Сингер приобретает огромную популярность за успех ленты «Подозрительные лица». Брайан показал себя очень талантливым кинематографистом, который, не имея больших финансовых средств, может нагнетать напряжение и в обыкновенной разговорной сцене, что под силу мне кажется, далеко не всем режиссерам. Та лента, помимо неплохого кассового успеха (все-таки бюджет у фильма вышел очень маленький) получила также и две премии Оскар: лучший сценарий и Лучшая мужская роль второго плана (Кевин Спейси). \n",
            " \n",
            " После такого успеха, Сингер решил продолжить работу в этом жанре и следующей своей работой он выбирает экранизацию очередной повести одного из самых экранизируемых писателей мира – Стивена Кинга. Сама же лента получилась, на мой взгляд, несколько неровной и чуток отторгающей. Во многом благодаря самому сюжету, который вышел довольно грубоватым и очень уж давящим, особенно учитывая такой непривычный так скажем, финал. \n",
            " \n",
            " Главным минусом фильма лично для меня стало то, что напряжение здесь нагоняется вокруг вообщем-то обыденных и не особенно пугающих эпизодов. Да, напряжение есть, но сам сюжет почти весь первый час не особенно то и развивается, из-за чего попросту становится скучно. Ты жаждешь узнать, что там дальше будет, а вместо этого режиссер делает акцент на том, как актер сейчас справляется в школе и так далее. Но радует то, что все же дальше сюжет развивается по принципу снежного кома: каждое действие или опрометчивый поступок главного героя в конце-концов приводит его к мягко говоря, не самым предсказуемым последствиям.\n",
            " \n",
            " Брэд Ренфро – потрясающе отыграл роль главного героя. Ученика, который жаждет чего-то большего, однако из-за постоянного общения о том бесчеловечном насилии, которое в свое время устроил Третий Рейх, он и сам наполняется ненавистью, которую со временем просто не сможет контролировать. Йен МакКеллен воистину зловещ в данной роли бывшего офицера Гитлеровской Германии. Его взгляд холоден, а действия пугающие. Именно такими мне кажется и были те самые убийцы во время Второй Мировой. Кстати, удивило присутствие Дэвида Швиммера в роли зачуханного учителя. Тогда этот актер был уже популярен из-за сериала «Друзья» и было странно видеть его в подобной роли.\n",
            " \n",
            " Способный ученик – исключительно разговорный триллер, в котором первый час вообще практически ничего не происходит и взамен этого режиссер предлагает медленное и плавное раскрытие персонажей и погружение зрителя в атмосферу. Не скажу, что прошло крайне удачно, все-таки осечки были и нудноватых моментов хватало, но я думаю, фильм заслуживает хотя бы однократного просмотра. Насладитесь вполне себе неплохим триллером. Жаль только, лента не может предложить чего-то большего.\n",
            " \n",
            " 7 из 10\n",
            "лица \u001b[41mПодозрительные\u001b[49m\n",
            "кинематографистом \u001b[42mталантливым\u001b[49m\n",
            "успеха \u001b[42mнеплохого\u001b[49m\n",
            "сценарий \u001b[42mлучший\u001b[49m\n",
            "роль \u001b[42mЛучшая\u001b[49m\n",
            "действие \u001b[41mопрометчивый\u001b[49m\n",
            "последствиям \u001b[42mпредсказуемым\u001b[49m\n",
            "насилии \u001b[41mбесчеловечном\u001b[49m\n",
            "убийцы \u001b[42mсамые\u001b[49m\n",
            "учителя \u001b[41mзачуханного\u001b[49m\n",
            "ученик \u001b[42mСпособный\u001b[49m\n",
            "триллером \u001b[42mнеплохим\u001b[49m\n"
          ],
          "name": "stdout"
        }
      ]
    }
  ]
}